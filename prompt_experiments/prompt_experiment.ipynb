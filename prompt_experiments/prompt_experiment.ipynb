{
 "cells": [
  {
   "cell_type": "code",
   "execution_count": 4,
   "metadata": {},
   "outputs": [],
   "source": [
    "from llama import llama_api\n",
    "#from gpt4 import gpt4o_api\n",
    "#from score import comparison"
   ]
  },
  {
   "cell_type": "code",
   "execution_count": 5,
   "metadata": {},
   "outputs": [],
   "source": [
    "input_file = \"example_input.txt\"\n",
    "reference_file = \"example_truth.txt\"\n"
   ]
  },
  {
   "cell_type": "code",
   "execution_count": 43,
   "metadata": {},
   "outputs": [],
   "source": [
    "# my_prompt = \"Read the following document and write a summary that includes the background of the case in one paragraph, the procedural history in two paragraphs, and the court's decision and reasoning in one paragraph.\"\n",
    "# print(my_prompt)"
   ]
  },
  {
   "cell_type": "code",
   "execution_count": 44,
   "metadata": {},
   "outputs": [
    {
     "name": "stdout",
     "output_type": "stream",
     "text": [
      "Facts done.\n",
      "history done.\n",
      "reasoning done.\n",
      "decision done.\n",
      "issue done.\n",
      "combine done.\n"
     ]
    }
   ],
   "source": [
    "# Summarize the most essential parts of the case\n",
    "prompt = \"State the background of the case in one paragraph in the following document.\"\n",
    "facts = llama_api(prompt=prompt, input_file=input_file, output_file=\"llama_agent_facts.txt\")\n",
    "print(\"Facts done.\")\n",
    "\n",
    "prompt = \"Summarize the procedural history in two paragraphs in the following document.\"\n",
    "history = llama_api(prompt=prompt, input_file=input_file, output_file=\"llama_agent_history.txt\")\n",
    "print(\"history done.\")\n",
    "\n",
    "prompt = \"State the court's decision and reasoning in one paragraph in the following document.\"\n",
    "reasoning = llama_api(prompt=prompt, input_file=input_file, output_file=\"llama_agent_reasoning.txt\")\n",
    "print(\"reasoning done.\")\n",
    "\n",
    "# Get the more concise conclusions which are put at the front of the summary.\n",
    "case_summary = \"\\n\\n\".join([facts, history, reasoning])\n",
    "\n",
    "prompt = \"In one simple clause, write a concise headline that summarizes the court's decision in the following summary:\"\n",
    "decision = llama_api(prompt=prompt, text=case_summary, output_file=\"llama_agent_decision.txt\")\n",
    "print(\"decision done.\")\n",
    "\n",
    "prompt = \"In one simple sentence, write a concise legal statement that summarizes the central question in the following case summary:\"\n",
    "issue = llama_api(prompt=prompt, text=case_summary, output_file=\"llama_agent_issue.txt\")\n",
    "print(\"issue done.\")\n",
    "\n",
    "# Organize to form the final output summary.\n",
    "combined_summary = \"\\n\\n\".join([decision, issue, facts, history, reasoning])\n",
    "\n",
    "prompt = \"Combine the following pieces of text into a single cohesive passage. Ensure the flow is smooth and logical while keeping most of the original content unchanged. Edit only as needed for readability and natural transitions\"\n",
    "final_output = llama_api(prompt=prompt, text=combined_summary, output_file=\"llama_final_output.txt\")\n",
    "print(\"combine done.\")"
   ]
  },
  {
   "cell_type": "code",
   "execution_count": null,
   "metadata": {},
   "outputs": [],
   "source": [
    "comparison(reference_file, \"llama_final_output.txt\", \"final_comparison.txt\")"
   ]
  },
  {
   "cell_type": "markdown",
   "metadata": {},
   "source": [
    "## Combine Prompt"
   ]
  },
  {
   "cell_type": "code",
   "execution_count": null,
   "metadata": {},
   "outputs": [
    {
     "name": "stdout",
     "output_type": "stream",
     "text": [
      "Running agent_1...\n",
      "agent_1 completed. Output saved to agent_1_output.txt\n",
      "Running agent_2...\n",
      "agent_2 completed. Output saved to agent_2_output.txt\n",
      "Running agent_3...\n",
      "agent_3 completed. Output saved to agent_3_output.txt\n",
      "Running agent_4...\n",
      "agent_4 completed. Output saved to agent_4_output.txt\n",
      "Running agent_5...\n",
      "agent_5 completed. Output saved to agent_5_output.txt\n",
      "Running agent_6...\n",
      "agent_6 completed. Output saved to agent_6_output.txt\n",
      "Running agent_7...\n",
      "agent_7 completed. Output saved to agent_7_output.txt\n",
      "Final integrated summary saved to final_case_summary_integrated.txt.\n"
     ]
    }
   ],
   "source": [
    "agents_prompts = {\n",
    "    \"agent_1\": (\n",
    "        \"Generate a concise title summarizing the court's decision in this case. \"\n",
    "        \"The title must begin with 'The Supreme Court sets aside'.\"\n",
    "    ),\n",
    "    \"agent_2\": (\n",
    "        \"Write an introductory sentence starting with 'This appeal'. \"\n",
    "        \"Explain the central legal question in the case in one sentence.\"\n",
    "    ),\n",
    "    \"agent_3\": (\n",
    "        \"Summarize the background of the case in one concise paragraph. Include the complainant, the accused, the alleged offences, and references to applicable sections of the Criminal Code.\"\n",
    "        \"Focus on the complainant, the accused, and the core allegations.\"\n",
    "    ),\n",
    "    \"agent_4\": (\n",
    "        \"Describe the trial process in one concise paragraph. \"\n",
    "        \"Focus on the evidence presented, the trial judge's decision, and their reasoning.\"\n",
    "    ),\n",
    "    \"agent_5\": (\n",
    "        \"Summarize the appellate process and Supreme Court's final decision in one concise paragraph. Focus on the appellate courts' reasoning and the Supreme Court's judgment.\"\n",
    "        \"Include only the outcomes of the appeal and the Supreme Court's reasoning.\"\n",
    "    ),\n",
    "    \"agent_6\": (\n",
    "        \"Summarize the most critical legal principle established in this case in one concise sentence. \"\n",
    "        \"Focus on the general relevance of the evidence, its relationship to the legal elements of the offence, and ensure the principle can apply broadly in similar cases.\"\n",
    "\n",
    "    ),\n",
    "    \"agent_7\": (\n",
    "        \"Write a concluding paragraph starting with 'Writing for the'. \"\n",
    "        \"Summarize the majority opinion, focusing on the reasoning and its implications for the case.\"\n",
    "    ),\n",
    "}\n",
    "\n",
    "\n",
    "# save results\n",
    "generated_paragraphs = {}\n",
    "\n",
    "# generate texts\n",
    "for agent_name, prompt in agents_prompts.items():\n",
    "    output_file = f\"{agent_name}_output.txt\"\n",
    "    print(f\"Running {agent_name}...\")\n",
    "    content = llama_api(\n",
    "        prompt=prompt,\n",
    "        input_file=input_file,\n",
    "        output_file=output_file\n",
    "    )\n",
    "    generated_paragraphs[agent_name] = content\n",
    "    print(f\"{agent_name} completed. Output saved to {output_file}\")\n",
    "\n",
    "agent_8_prompt = (\n",
    "    \"Combine the following text outputs from seven agents into a single cohesive summary. \"\n",
    "    \"- Remove redundancy and repetition while preserving critical legal principles and facts. \"\n",
    "    \"- Ensure the resulting structure follows this order: \"\n",
    "    \"1. Title, 2. Introduction, 3. Background, 4. Trial Process, 5. Appellate and Supreme Court Decisions, \"\n",
    "    \"6. Legal Principle, 7. Conclusion. \"\n",
    "    \"- Maintain the distinct format of each section and ensure smooth transitions.\"\n",
    "    \"The title must begin with 'The Supreme Court sets aside'.\"\n",
    "    \"Part 2 should write an introductory sentence starting with 'This appeal'. \"\n",
    "    \"Part 6 should be absolutely one sentence.\"\n",
    "    \"Part 7 should write a concluding paragraph starting with 'Writing for the'. \"\n",
    "\n",
    ")\n",
    "\n",
    "# combine all paragraphs\n",
    "all_paragraphs_combined = \"\\n\\n\".join(generated_paragraphs.values())\n",
    "\n",
    "# final\n",
    "final_output = llama_api(\n",
    "    prompt=agent_8_prompt,\n",
    "    text=all_paragraphs_combined,\n",
    "    output_file=\"final_case_summary_integrated.txt\"\n",
    ")\n",
    "print(\"Final integrated summary saved to final_case_summary_integrated.txt.\")\n"
   ]
  },
  {
   "cell_type": "code",
   "execution_count": 45,
   "metadata": {},
   "outputs": [],
   "source": [
    "# with open(\"multi_agent_concat_results/llama_output_facts.txt\", \"r\") as file:\n",
    "#     facts = file.read()\n",
    "\n",
    "# with open(\"multi_agent_concat_results/llama_output_history.txt\", \"r\") as file:\n",
    "#     history = file.read()\n",
    "\n",
    "# with open(\"multi_agent_concat_results/llama_output_reasoning.txt\", \"r\") as file:\n",
    "#     reasoning = file.read()"
   ]
  },
  {
   "cell_type": "code",
   "execution_count": 46,
   "metadata": {},
   "outputs": [],
   "source": [
    "# # Get the more concise conclusions which are put at the front of the summary.\n",
    "# case_summary = \"\\n\\n\".join([facts, history, reasoning])\n",
    "\n",
    "# prompt = \"In one simple clause, write a concise headline that summarizes the court's decision in the following summary:\"\n",
    "# decision = llama_api(prompt=prompt, text=case_summary, output_file=\"llama_agent_decision.txt\")\n",
    "# print(\"decision done.\")\n",
    "\n",
    "# prompt = \"In one simple sentence, write a concise legal statement that summarizes the central question in the following case summary:\"\n",
    "# issue = llama_api(prompt=prompt, text=case_summary, output_file=\"llama_agent_issue.txt\")\n",
    "# print(\"issue done.\")\n",
    "\n",
    "# # Organize to form the final output summary.\n",
    "# combined_summary = \"\\n\\n\".join([decision, issue, facts, history, reasoning])\n",
    "\n",
    "# prompt = \"Combine the following pieces of text into a single cohesive passage. Ensure the flow is smooth and logical while keeping most of the original content unchanged. Edit only as needed for readability and natural transitions\"\n",
    "# final_output = llama_api(prompt=prompt, text=combined_summary, output_file=\"llama_final_output.txt\")\n",
    "# print(\"combine done.\")"
   ]
  },
  {
   "cell_type": "code",
   "execution_count": 48,
   "metadata": {},
   "outputs": [],
   "source": [
    "# gpt4_output_file = \"gpt4_output.txt\"\n",
    "# gpt4_comparison_file = \"gpt4_comparison.txt\"\n",
    "\n",
    "# gpt4o_api(my_prompt, input_file, gpt4_output_file)\n",
    "# comparison(reference_file, gpt4_output_file, gpt4_comparison_file)"
   ]
  },
  {
   "cell_type": "code",
   "execution_count": 49,
   "metadata": {},
   "outputs": [],
   "source": [
    "# comparison(reference_file, \"combined_output.txt\", \"combined_comparison.txt\")"
   ]
  }
 ],
 "metadata": {
  "kernelspec": {
   "display_name": "ece1786",
   "language": "python",
   "name": "python3"
  },
  "language_info": {
   "codemirror_mode": {
    "name": "ipython",
    "version": 3
   },
   "file_extension": ".py",
   "mimetype": "text/x-python",
   "name": "python",
   "nbconvert_exporter": "python",
   "pygments_lexer": "ipython3",
   "version": "3.9.20"
  }
 },
 "nbformat": 4,
 "nbformat_minor": 2
}
