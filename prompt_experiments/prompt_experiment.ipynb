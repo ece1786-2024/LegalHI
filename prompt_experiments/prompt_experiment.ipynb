{
 "cells": [
  {
   "cell_type": "code",
   "execution_count": 41,
   "metadata": {},
   "outputs": [],
   "source": [
    "from llama import llama_api\n",
    "from gpt4 import gpt4o_api\n",
    "from score import comparison"
   ]
  },
  {
   "cell_type": "code",
   "execution_count": 42,
   "metadata": {},
   "outputs": [],
   "source": [
    "input_file = \"example_input.txt\"\n",
    "reference_file = \"example_truth.txt\"\n"
   ]
  },
  {
   "cell_type": "code",
   "execution_count": 43,
   "metadata": {},
   "outputs": [],
   "source": [
    "# my_prompt = \"Read the following document and write a summary that includes the background of the case in one paragraph, the procedural history in two paragraphs, and the court's decision and reasoning in one paragraph.\"\n",
    "# print(my_prompt)"
   ]
  },
  {
   "cell_type": "code",
   "execution_count": 44,
   "metadata": {},
   "outputs": [
    {
     "name": "stdout",
     "output_type": "stream",
     "text": [
      "Facts done.\n",
      "history done.\n",
      "reasoning done.\n",
      "decision done.\n",
      "issue done.\n",
      "combine done.\n"
     ]
    }
   ],
   "source": [
    "# Summarize the most essential parts of the case\n",
    "prompt = \"State the background of the case in one paragraph in the following document.\"\n",
    "facts = llama_api(prompt=prompt, input_file=input_file, output_file=\"llama_agent_facts.txt\")\n",
    "print(\"Facts done.\")\n",
    "\n",
    "prompt = \"Summarize the procedural history in two paragraphs in the following document.\"\n",
    "history = llama_api(prompt=prompt, input_file=input_file, output_file=\"llama_agent_history.txt\")\n",
    "print(\"history done.\")\n",
    "\n",
    "prompt = \"State the court's decision and reasoning in one paragraph in the following document.\"\n",
    "reasoning = llama_api(prompt=prompt, input_file=input_file, output_file=\"llama_agent_reasoning.txt\")\n",
    "print(\"reasoning done.\")\n",
    "\n",
    "# Get the more concise conclusions which are put at the front of the summary.\n",
    "case_summary = \"\\n\\n\".join([facts, history, reasoning])\n",
    "\n",
    "prompt = \"In one simple clause, write a concise headline that summarizes the court's decision in the following summary:\"\n",
    "decision = llama_api(prompt=prompt, text=case_summary, output_file=\"llama_agent_decision.txt\")\n",
    "print(\"decision done.\")\n",
    "\n",
    "prompt = \"In one simple sentence, write a concise legal statement that summarizes the central question in the following case summary:\"\n",
    "issue = llama_api(prompt=prompt, text=case_summary, output_file=\"llama_agent_issue.txt\")\n",
    "print(\"issue done.\")\n",
    "\n",
    "# Organize to form the final output summary.\n",
    "combined_summary = \"\\n\\n\".join([decision, issue, facts, history, reasoning])\n",
    "\n",
    "prompt = \"Combine the following pieces of text into a single cohesive passage. Ensure the flow is smooth and logical while keeping most of the original content unchanged. Edit only as needed for readability and natural transitions\"\n",
    "final_output = llama_api(prompt=prompt, text=combined_summary, output_file=\"llama_final_output.txt\")\n",
    "print(\"combine done.\")"
   ]
  },
  {
   "cell_type": "code",
   "execution_count": null,
   "metadata": {},
   "outputs": [],
   "source": [
    "comparison(reference_file, \"llama_final_output.txt\", \"final_comparison.txt\")"
   ]
  },
  {
   "cell_type": "markdown",
   "metadata": {},
   "source": [
    "## Combine Prompt"
   ]
  },
  {
   "cell_type": "code",
   "execution_count": 45,
   "metadata": {},
   "outputs": [],
   "source": [
    "# with open(\"multi_agent_concat_results/llama_output_facts.txt\", \"r\") as file:\n",
    "#     facts = file.read()\n",
    "\n",
    "# with open(\"multi_agent_concat_results/llama_output_history.txt\", \"r\") as file:\n",
    "#     history = file.read()\n",
    "\n",
    "# with open(\"multi_agent_concat_results/llama_output_reasoning.txt\", \"r\") as file:\n",
    "#     reasoning = file.read()"
   ]
  },
  {
   "cell_type": "code",
   "execution_count": 46,
   "metadata": {},
   "outputs": [],
   "source": [
    "# # Get the more concise conclusions which are put at the front of the summary.\n",
    "# case_summary = \"\\n\\n\".join([facts, history, reasoning])\n",
    "\n",
    "# prompt = \"In one simple clause, write a concise headline that summarizes the court's decision in the following summary:\"\n",
    "# decision = llama_api(prompt=prompt, text=case_summary, output_file=\"llama_agent_decision.txt\")\n",
    "# print(\"decision done.\")\n",
    "\n",
    "# prompt = \"In one simple sentence, write a concise legal statement that summarizes the central question in the following case summary:\"\n",
    "# issue = llama_api(prompt=prompt, text=case_summary, output_file=\"llama_agent_issue.txt\")\n",
    "# print(\"issue done.\")\n",
    "\n",
    "# # Organize to form the final output summary.\n",
    "# combined_summary = \"\\n\\n\".join([decision, issue, facts, history, reasoning])\n",
    "\n",
    "# prompt = \"Combine the following pieces of text into a single cohesive passage. Ensure the flow is smooth and logical while keeping most of the original content unchanged. Edit only as needed for readability and natural transitions\"\n",
    "# final_output = llama_api(prompt=prompt, text=combined_summary, output_file=\"llama_final_output.txt\")\n",
    "# print(\"combine done.\")"
   ]
  },
  {
   "cell_type": "code",
   "execution_count": 48,
   "metadata": {},
   "outputs": [],
   "source": [
    "# gpt4_output_file = \"gpt4_output.txt\"\n",
    "# gpt4_comparison_file = \"gpt4_comparison.txt\"\n",
    "\n",
    "# gpt4o_api(my_prompt, input_file, gpt4_output_file)\n",
    "# comparison(reference_file, gpt4_output_file, gpt4_comparison_file)"
   ]
  },
  {
   "cell_type": "code",
   "execution_count": 49,
   "metadata": {},
   "outputs": [],
   "source": [
    "# comparison(reference_file, \"combined_output.txt\", \"combined_comparison.txt\")"
   ]
  }
 ],
 "metadata": {
  "kernelspec": {
   "display_name": "ece1786",
   "language": "python",
   "name": "python3"
  },
  "language_info": {
   "codemirror_mode": {
    "name": "ipython",
    "version": 3
   },
   "file_extension": ".py",
   "mimetype": "text/x-python",
   "name": "python",
   "nbconvert_exporter": "python",
   "pygments_lexer": "ipython3",
   "version": "3.10.14"
  }
 },
 "nbformat": 4,
 "nbformat_minor": 2
}
