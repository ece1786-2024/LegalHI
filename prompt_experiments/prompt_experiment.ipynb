{
 "cells": [
  {
   "cell_type": "code",
   "execution_count": 21,
   "metadata": {},
   "outputs": [],
   "source": [
    "from llama import llama_api\n",
    "from gpt4 import gpt4o_api\n",
    "from score import comparison"
   ]
  },
  {
   "cell_type": "code",
   "execution_count": 22,
   "metadata": {},
   "outputs": [],
   "source": [
    "input_file = \"example_input.txt\"\n",
    "reference_file = \"example_truth.txt\"\n"
   ]
  },
  {
   "cell_type": "code",
   "execution_count": 23,
   "metadata": {},
   "outputs": [],
   "source": [
    "# my_prompt = \"Read the following document and write a summary that includes the background of the case in one paragraph, the procedural history in two paragraphs, and the court's decision and reasoning in one paragraph.\"\n",
    "# print(my_prompt)"
   ]
  },
  {
   "cell_type": "code",
   "execution_count": null,
   "metadata": {},
   "outputs": [
    {
     "name": "stdout",
     "output_type": "stream",
     "text": [
      "Facts done.\n",
      "history done.\n",
      "reasoning done.\n",
      "decision done.\n",
      "issue done.\n"
     ]
    },
    {
     "name": "stderr",
     "output_type": "stream",
     "text": [
      "Some weights of RobertaModel were not initialized from the model checkpoint at roberta-large and are newly initialized: ['roberta.pooler.dense.bias', 'roberta.pooler.dense.weight']\n",
      "You should probably TRAIN this model on a down-stream task to be able to use it for predictions and inference.\n"
     ]
    },
    {
     "name": "stdout",
     "output_type": "stream",
     "text": [
      "calculating scores...\n",
      "computing bert embedding.\n"
     ]
    },
    {
     "data": {
      "application/vnd.jupyter.widget-view+json": {
       "model_id": "aa1b5f3d04cc43b78bbc4b0f96f4c379",
       "version_major": 2,
       "version_minor": 0
      },
      "text/plain": [
       "  0%|          | 0/1 [00:00<?, ?it/s]"
      ]
     },
     "metadata": {},
     "output_type": "display_data"
    },
    {
     "name": "stdout",
     "output_type": "stream",
     "text": [
      "computing greedy matching.\n"
     ]
    },
    {
     "data": {
      "application/vnd.jupyter.widget-view+json": {
       "model_id": "7af8b214a0514b1199ee401b91686bb5",
       "version_major": 2,
       "version_minor": 0
      },
      "text/plain": [
       "  0%|          | 0/1 [00:00<?, ?it/s]"
      ]
     },
     "metadata": {},
     "output_type": "display_data"
    },
    {
     "name": "stdout",
     "output_type": "stream",
     "text": [
      "done in 0.20 seconds, 4.95 sentences/sec\n"
     ]
    }
   ],
   "source": [
    "llama_output_file = \"llama_output.txt\"\n",
    "llama_comparison_file = \"llama_comparison.txt\"\n",
    "\n",
    "# Summarize the most essential parts of the case\n",
    "prompt = \"Summarize the background of the case in one paragraph in the following document.\"\n",
    "facts = llama_api(prompt=prompt, input_file=input_file, output_file=\"llama_agent_facts.txt\")\n",
    "print(\"Facts done.\")\n",
    "\n",
    "prompt = \"Summarize the procedural history in two paragraphs in the following document.\"\n",
    "history = llama_api(prompt=prompt, input_file=input_file, output_file=\"llama_agent_history.txt\")\n",
    "print(\"history done.\")\n",
    "\n",
    "prompt = \"Summarize the court's decision and reasoning in one paragraph in the following document.\"\n",
    "reasoning = llama_api(prompt=prompt, input_file=input_file, output_file=\"llama_agent_reasoning.txt\")\n",
    "print(\"reasoning done.\")\n",
    "\n",
    "# Get the more concise conclusions which are put at the front of the summary.\n",
    "case_summary = \"\\n\".join([facts, history, reasoning])\n",
    "\n",
    "prompt = \"State the court's decision in one sentence in the following summary:\"\n",
    "decision = llama_api(prompt=prompt, text=case_summary, output_file=\"llama_agent_decision.txt\")\n",
    "print(\"decision done.\")\n",
    "\n",
    "prompt = \"In one sentence, state the most important legal or factual issue the court addressed to reach its decision in the following summary:\"\n",
    "issue = llama_api(prompt=prompt, text=case_summary, output_file=\"llama_agent_issue.txt\")\n",
    "print(\"issue done.\")\n",
    "\n",
    "# Organize to form the final output summary.\n",
    "combined_summary = \"\\n\\n\".join([decision, issue, facts, history, reasoning])\n",
    "\n",
    "final_output = combined_summary\n",
    "# prompt = \"Organize the following texts into several paragraphs:\"\n",
    "# final_output = llama_api(prompt=prompt, text=combined_summary)\n",
    "# print(\"combine done.\")\n",
    "\n",
    "with open(llama_output_file, \"w\") as file:\n",
    "    file.write(final_output)\n",
    "\n",
    "comparison(reference_file, llama_output_file, llama_comparison_file)"
   ]
  },
  {
   "cell_type": "code",
   "execution_count": 26,
   "metadata": {},
   "outputs": [],
   "source": [
    "# gpt4_output_file = \"gpt4_output.txt\"\n",
    "# gpt4_comparison_file = \"gpt4_comparison.txt\"\n",
    "\n",
    "# gpt4o_api(my_prompt, input_file, gpt4_output_file)\n",
    "# comparison(reference_file, gpt4_output_file, gpt4_comparison_file)"
   ]
  },
  {
   "cell_type": "code",
   "execution_count": 27,
   "metadata": {},
   "outputs": [],
   "source": [
    "# comparison(reference_file, \"combined_output.txt\", \"combined_comparison.txt\")"
   ]
  }
 ],
 "metadata": {
  "kernelspec": {
   "display_name": "ece1786",
   "language": "python",
   "name": "python3"
  },
  "language_info": {
   "codemirror_mode": {
    "name": "ipython",
    "version": 3
   },
   "file_extension": ".py",
   "mimetype": "text/x-python",
   "name": "python",
   "nbconvert_exporter": "python",
   "pygments_lexer": "ipython3",
   "version": "3.10.14"
  }
 },
 "nbformat": 4,
 "nbformat_minor": 2
}
