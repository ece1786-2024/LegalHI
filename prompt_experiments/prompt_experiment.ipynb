{
 "cells": [
  {
   "cell_type": "code",
   "execution_count": null,
   "metadata": {},
   "outputs": [],
   "source": [
    "from llama import llama_api\n",
    "#from gpt4 import gpt4o_api\n",
    "from score import comparison"
   ]
  },
  {
   "cell_type": "code",
   "execution_count": null,
   "metadata": {},
   "outputs": [],
   "source": [
    "input_file = \"example_input.txt\"\n",
    "reference_file = \"example_truth.txt\"\n"
   ]
  },
  {
   "cell_type": "code",
   "execution_count": null,
   "metadata": {},
   "outputs": [],
   "source": [
    "# my_prompt = \"Read the following document and write a summary that includes the background of the case in one paragraph, the procedural history in two paragraphs, and the court's decision and reasoning in one paragraph.\"\n",
    "# print(my_prompt)"
   ]
  },
  {
   "cell_type": "code",
   "execution_count": null,
   "metadata": {},
   "outputs": [],
   "source": [
    "# Summarize the most essential parts of the case\n",
    "prompt = \"State the background of the case in one paragraph in the following document.\"\n",
    "facts = llama_api(prompt=prompt, input_file=input_file, output_file=\"llama_agent_facts.txt\")\n",
    "print(\"Facts done.\")\n",
    "\n",
    "prompt = \"Summarize the procedural history in two paragraphs in the following document.\"\n",
    "history = llama_api(prompt=prompt, input_file=input_file, output_file=\"llama_agent_history.txt\")\n",
    "print(\"history done.\")\n",
    "\n",
    "prompt = \"State the court's decision and reasoning in one paragraph in the following document.\"\n",
    "reasoning = llama_api(prompt=prompt, input_file=input_file, output_file=\"llama_agent_reasoning.txt\")\n",
    "print(\"reasoning done.\")\n",
    "\n",
    "# Get the more concise conclusions which are put at the front of the summary.\n",
    "case_summary = \"\\n\\n\".join([facts, history, reasoning])\n",
    "\n",
    "prompt = \"In one simple clause, write a concise headline that summarizes the court's decision in the following summary:\"\n",
    "decision = llama_api(prompt=prompt, text=case_summary, output_file=\"llama_agent_decision.txt\")\n",
    "print(\"decision done.\")\n",
    "\n",
    "prompt = \"In one simple sentence, write a concise legal statement that summarizes the central question in the following case summary:\"\n",
    "issue = llama_api(prompt=prompt, text=case_summary, output_file=\"llama_agent_issue.txt\")\n",
    "print(\"issue done.\")\n",
    "\n",
    "# Organize to form the final output summary.\n",
    "combined_summary = \"\\n\\n\".join([decision, issue, facts, history, reasoning])\n",
    "\n",
    "prompt = \"Combine the following pieces of text into a single cohesive passage. Ensure the flow is smooth and logical while keeping most of the original content unchanged. Edit only as needed for readability and natural transitions\"\n",
    "final_output = llama_api(prompt=prompt, text=combined_summary, output_file=\"llama_final_output.txt\")\n",
    "print(\"combine done.\")"
   ]
  },
  {
   "cell_type": "code",
   "execution_count": null,
   "metadata": {},
   "outputs": [],
   "source": [
    "comparison(reference_file, \"llama_final_output.txt\", \"final_comparison.txt\")"
   ]
  },
  {
   "cell_type": "markdown",
   "metadata": {},
   "source": [
    "## Combine Prompt"
   ]
  },
  {
   "cell_type": "code",
   "execution_count": null,
   "metadata": {},
   "outputs": [],
   "source": [
    "agents_prompts = {\n",
    "    #\"agent_1\": (\n",
    "    #    \"Generate a concise title summarizing the court's decision in this case. \"\n",
    "    #    \"The title must begin with the name of the court with the summary of the court's decision.\"\n",
    "    #),\n",
    "    #\"agent_2\": (\n",
    "    #    \"Write an introductory sentence starting with 'This appeal'. \"\n",
    "    #    \"Explain the central legal question in the case in one sentence.\"\n",
    "    #),\n",
    "    \"agent_1\": (\n",
    "        \"Summarize the background of the case in one concise paragraph. Include the complainant, the accused, the alleged offences, and references to applicable sections of the Criminal Code.\"\n",
    "        \"Focus on the complainant, the accused, and the core allegations.\"\n",
    "    ),\n",
    "    \"agent_2\": (\n",
    "        \"Summarize the entire court proceedings in one concise paragraph, including: \"\n",
    "        \"- The trial process: Describe the evidence presented, the trial judge's decision, and their reasoning. \"\n",
    "        \"- The appellate process: Highlight the appellate arguments, the appellate courts' reasoning, and their decisions. \"\n",
    "        \"- The final decision: Summarize the final judgment and reasoning of the highest court involved in this case. \"\n",
    "        \"Focus on the logical progression of the case and key reasoning at each stage.\"\n",
    "    ),\n",
    "    \"agent_3\": (\n",
    "        \"Summarize the most critical legal principle established in this case in one concise sentence. \"\n",
    "        \"Focus on the general relevance of the evidence, its relationship to the legal elements of the offence, and ensure the principle can apply broadly in similar cases.\"\n",
    "    ),\n",
    "    \"agent_4\": (\n",
    "        \"Write a concluding paragraph starting with 'Writing for the'. \"\n",
    "        \"Summarize the majority opinion, focusing on the reasoning and its implications for the case.\"\n",
    "    ),\n",
    "}\n",
    "\n",
    "\n",
    "# save results\n",
    "generated_paragraphs = {}\n",
    "\n",
    "# generate texts\n",
    "for agent_name, prompt in agents_prompts.items():\n",
    "    output_file = f\"{agent_name}_output.txt\"\n",
    "    print(f\"Running {agent_name}...\")\n",
    "    content = llama_api(\n",
    "        prompt=prompt,\n",
    "        input_file=input_file,\n",
    "        output_file=output_file\n",
    "    )\n",
    "    generated_paragraphs[agent_name] = content\n",
    "    print(f\"{agent_name} completed. Output saved to {output_file}\")\n",
    "\n",
    "agent_5_prompt = (\n",
    "    \"Combine the following text outputs from seven agents into a single cohesive and well-structured summary. \"\n",
    "    \"Follow this structure and ensure each section adheres to the specified format: \"\n",
    "    \"1. Title: Begin with the name of the court and provide a concise summary of the decision. For example, 'The Supreme Court sets aside...'. \"\n",
    "    \"2. Introduction: Write one sentence starting with 'This appeal' that summarizes the central legal question. \"\n",
    "    \"3. Background: Summarize the case facts, including the complainant, the accused, the alleged offences, and references to relevant legal provisions. \"\n",
    "    \"4. Court Proceedings: Describe the entire court process in one paragraph, including the trial, appellate decisions, and final judgment, ensuring smooth progression. \"\n",
    "    \"5. Legal Principle: Provide the most critical legal principle established by the court in one concise sentence. Ensure it is general and applicable to similar cases. \"\n",
    "    \"6. Conclusion: Write a concluding paragraph starting with 'Writing for the', summarizing the court's reasoning and its broader implications for the law. \"\n",
    "    \"- Remove all redundancy or repetition while preserving critical legal principles and facts. \"\n",
    "    \"- Ensure smooth transitions between sections, with each part contributing to a clear and logical narrative.\"\n",
    "    \"- Part 5 should be absolutely one sentence, and not include the specific cases or facts.\"\n",
    "    \"- part 6 should not be changed too much.\"\n",
    ")\n",
    "\n",
    "# combine all paragraphs\n",
    "all_paragraphs_combined = \"\\n\\n\".join(generated_paragraphs.values())\n",
    "\n",
    "# final\n",
    "final_output = llama_api(\n",
    "    prompt=agent_5_prompt,\n",
    "    text=all_paragraphs_combined,\n",
    "    output_file=\"final_case_summary_integrated.txt\"\n",
    ")\n",
    "print(\"Final integrated summary saved to final_case_summary_integrated.txt.\")\n"
   ]
  },
  {
   "cell_type": "code",
   "execution_count": null,
   "metadata": {},
   "outputs": [],
   "source": [
    "# with open(\"multi_agent_concat_results/llama_output_facts.txt\", \"r\") as file:\n",
    "#     facts = file.read()\n",
    "\n",
    "# with open(\"multi_agent_concat_results/llama_output_history.txt\", \"r\") as file:\n",
    "#     history = file.read()\n",
    "\n",
    "# with open(\"multi_agent_concat_results/llama_output_reasoning.txt\", \"r\") as file:\n",
    "#     reasoning = file.read()"
   ]
  },
  {
   "cell_type": "code",
   "execution_count": null,
   "metadata": {},
   "outputs": [],
   "source": [
    "# # Get the more concise conclusions which are put at the front of the summary.\n",
    "# case_summary = \"\\n\\n\".join([facts, history, reasoning])\n",
    "\n",
    "# prompt = \"In one simple clause, write a concise headline that summarizes the court's decision in the following summary:\"\n",
    "# decision = llama_api(prompt=prompt, text=case_summary, output_file=\"llama_agent_decision.txt\")\n",
    "# print(\"decision done.\")\n",
    "\n",
    "# prompt = \"In one simple sentence, write a concise legal statement that summarizes the central question in the following case summary:\"\n",
    "# issue = llama_api(prompt=prompt, text=case_summary, output_file=\"llama_agent_issue.txt\")\n",
    "# print(\"issue done.\")\n",
    "\n",
    "# # Organize to form the final output summary.\n",
    "# combined_summary = \"\\n\\n\".join([decision, issue, facts, history, reasoning])\n",
    "\n",
    "# prompt = \"Combine the following pieces of text into a single cohesive passage. Ensure the flow is smooth and logical while keeping most of the original content unchanged. Edit only as needed for readability and natural transitions\"\n",
    "# final_output = llama_api(prompt=prompt, text=combined_summary, output_file=\"llama_final_output.txt\")\n",
    "# print(\"combine done.\")"
   ]
  },
  {
   "cell_type": "code",
   "execution_count": null,
   "metadata": {},
   "outputs": [],
   "source": [
    "# gpt4_output_file = \"gpt4_output.txt\"\n",
    "# gpt4_comparison_file = \"gpt4_comparison.txt\"\n",
    "\n",
    "# gpt4o_api(my_prompt, input_file, gpt4_output_file)\n",
    "# comparison(reference_file, gpt4_output_file, gpt4_comparison_file)"
   ]
  },
  {
   "cell_type": "code",
   "execution_count": null,
   "metadata": {},
   "outputs": [],
   "source": [
    "# comparison(reference_file, \"combined_output.txt\", \"combined_comparison.txt\")"
   ]
  }
 ],
 "metadata": {
  "kernelspec": {
   "display_name": "ece1786",
   "language": "python",
   "name": "python3"
  },
  "language_info": {
   "codemirror_mode": {
    "name": "ipython",
    "version": 3
   },
   "file_extension": ".py",
   "mimetype": "text/x-python",
   "name": "python",
   "nbconvert_exporter": "python",
   "pygments_lexer": "ipython3",
   "version": "3.10.14"
  }
 },
 "nbformat": 4,
 "nbformat_minor": 2
}
