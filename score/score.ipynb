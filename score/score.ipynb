{
 "cells": [
  {
   "cell_type": "code",
   "execution_count": null,
   "metadata": {},
   "outputs": [],
   "source": [
    "# !pip install rouge-score bert-score"
   ]
  },
  {
   "cell_type": "code",
   "execution_count": null,
   "metadata": {},
   "outputs": [],
   "source": [
    "reference_summary = None\n",
    "with open(\"example_truth.txt\", \"r\") as file:\n",
    "    reference_summary = file.read()\n",
    "print(reference_summary)"
   ]
  },
  {
   "cell_type": "code",
   "execution_count": null,
   "metadata": {},
   "outputs": [],
   "source": [
    "generated_summary = None\n",
    "with open(\"example_output-70b-agentic.txt\", \"r\") as file:\n",
    "    generated_summary = file.read()\n",
    "print(generated_summary)"
   ]
  },
  {
   "cell_type": "code",
   "execution_count": null,
   "metadata": {},
   "outputs": [],
   "source": [
    "from rouge_score import rouge_scorer\n",
    "\n",
    "\n",
    "### 1. ROUGE score\n",
    "def calculate_rouge(reference, generated):\n",
    "\n",
    "    scorer = rouge_scorer.RougeScorer(['rouge1', 'rouge2', 'rougeL'], use_stemmer=True)\n",
    "    scores = scorer.score(reference, generated)\n",
    "    return scores\n",
    "\n",
    "rouge_scores = calculate_rouge(reference_summary, generated_summary)\n",
    "print(\"ROUGE Scores:\")\n",
    "for metric, score in rouge_scores.items():\n",
    "    print(f\"{metric}: Precision={score.precision:.3f}, Recall={score.recall:.3f}, F1-Score={score.fmeasure:.3f}\")\n",
    "\n"
   ]
  },
  {
   "cell_type": "code",
   "execution_count": null,
   "metadata": {},
   "outputs": [],
   "source": [
    "from bert_score import score\n",
    "\n",
    "\n",
    "### 2.BERTScore\n",
    "def calculate_bertscore(reference, generated):\n",
    "\n",
    "    P, R, F1 = score([generated], [reference], lang=\"en\", verbose=True)\n",
    "    return P[0].item(), R[0].item(), F1[0].item()\n",
    "\n",
    "bert_precision, bert_recall, bert_f1 = calculate_bertscore(reference_summary, generated_summary)\n",
    "print(\"\\nBERTScore:\")\n",
    "print(f\"Precision={bert_precision:.3f}, Recall={bert_recall:.3f}, F1-Score={bert_f1:.3f}\")\n"
   ]
  }
 ],
 "metadata": {
  "kernelspec": {
   "display_name": "ece1786",
   "language": "python",
   "name": "python3"
  },
  "language_info": {
   "codemirror_mode": {
    "name": "ipython",
    "version": 3
   },
   "file_extension": ".py",
   "mimetype": "text/x-python",
   "name": "python",
   "nbconvert_exporter": "python",
   "pygments_lexer": "ipython3",
   "version": "3.10.14"
  }
 },
 "nbformat": 4,
 "nbformat_minor": 2
}
