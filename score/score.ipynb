{
 "cells": [
  {
   "cell_type": "code",
   "execution_count": 17,
   "metadata": {},
   "outputs": [],
   "source": [
    "# !pip install rouge-score bert-score"
   ]
  },
  {
   "cell_type": "code",
   "execution_count": 18,
   "metadata": {},
   "outputs": [
    {
     "name": "stdout",
     "output_type": "stream",
     "text": [
      "<strong>The Supreme Court sets  aside a man’s acquittals for trafficking in persons and orders a new trial.</strong>This appeal addresses whether  evidence of past violence may be relevant to the offence of trafficking in persons  in a criminal prosecution.From 2004 to 2012, the complainant  and the accused were in a common law relationship that was plagued by violence  and financial difficulties. According to the complainant, the accused persuaded  her to have sex on a webcam for money, dance for men, and offer sexual services  for money, which she did because of the accused’s violence and threats towards  her. She also claimed that the accused was deeply involved in the sexual services, including posting ads offering sexual  services, and received all the money. She  stated that this continued  until she left the accused in 2012. The accused was charged with trafficking in  persons and receiving a material benefit from it, contrary to sections  279.01(1) and 279.02(1) of the <em>Criminal  Code</em>. At trial, the  complainant and five other witnesses provided evidence of the accused’s  violence towards the complainant. The trial judge acquitted the accused. He  accepted that the complainant was in a violent relationship with the accused, but  he found her testimony lacking in credibility. He also had a reasonable doubt  about the accused’s ties to any prostitution enterprise. He considered the evidence  from the other witnesses as backdrop, but not in relation to the alleged  offences, concluding that it related to “past discreditable conduct”. Evidence  of past discreditable conduct relates to past misconduct of the accused that  goes beyond what is alleged by the prosecution in relation to an offence and is  not normally admissible. The Crown appealed the  acquittals to the Court of Appeal, arguing that the trial judge should have  considered the evidence of the other witnesses about the accused’s violence  towards the complainant. The majority of the Court of Appeal confirmed the  acquittals. It held that the trial judge was wrong to conclude that the accused’s violence was past discreditable conduct but that  the error did not have a significant impact on the  acquittals. The majority also concluded that the trial judge did not fail  to consider all the evidence. The dissenting judge would have ordered a new  trial, finding that the trial judge failed to consider all the evidence, and  that treating the accused’s violence as past discreditable conduct  misapprehended its nature and relevance to the elementsof both offences that the Crown needed to establish. The Crown  appealed to the Supreme Court.The Supreme Court has  allowed the appeal, set aside the acquittals, and ordered a new trial.<strong>Evidence of regular violence, threats of violence, and a  violent relationship may be relevant to the elements of the offence of  trafficking in persons.</strong>Writing for the  majority, Justice O’Bonsawin concluded that the trial judge assessed the  evidence based on a wrong legal principle by determining that the evidence of  violence and threats of violence by the accused towards the complainant was  evidence of past discreditable conduct. This error of law hindered his  assessment of the evidence and considerably diminished the evidentiary  foundation relevant to the essential elements of the trafficking in  persons offence and the definition of exploitation set  out in section 279.04 of the <em>Criminal  Code</em>. The trial  judge’s error might have had a material bearing on the acquittals. They should  therefore be set aside and a new trial ordered.\n"
     ]
    }
   ],
   "source": [
    "reference_summary = None\n",
    "with open(\"example_truth.txt\", \"r\") as file:\n",
    "    reference_summary = file.read()\n",
    "print(reference_summary)"
   ]
  },
  {
   "cell_type": "code",
   "execution_count": null,
   "metadata": {},
   "outputs": [
    {
     "name": "stdout",
     "output_type": "stream",
     "text": [
      "The Supreme Court of Canada has ruled that the trial judge erred in law by characterizing the evidence of regular violence and threats of violence by the accused towards the complainant as past discreditable conduct. The trial judge's characterization was based on a wrong legal principle, leading to a misapprehension of the evidence.\n",
      "\n",
      "The trial judge's error was not merely an incorrect application of law, but rather a fundamental misunderstanding of the concept of past discreditable conduct. The trial judge characterized regular violence and threats as \"past discreditable conduct\" without considering whether it could be relevant to establishing exploitation under s. 279.04 CrC.\n",
      "\n",
      "The Crown argues that this error had a material bearing on the acquittal, but this is disputed by our colleague JJ.\n",
      "\n",
      "Our colleague JJ., writing for herself and Rowe JJ., concurring in part with Côté J.'s reasons:\n",
      "\n",
      "[1]                    In my analysis, I agree with Côté J.'s conclusion that there is no basis for intervention on this issue due to lack of clear error in assessing credibility.\n",
      "\n",
      "[2]                    However, I disagree with Côté J.'s conclusion that there is no evidentiary basis for finding intent to exploit based on five witnesses' testimony.\n",
      "\n",
      "[3]                    In my view, even if we consider five witnesses' testimony as part of actus reus analysis rather than past discreditable conduct.\n",
      "\n",
      "[4]                    There is no evidentiary basis for inferring intent to exploit from patterned violent behavior by an accused in some cases does not mean we can uproot credibility findings so as to make out inference in this case\n",
      "\n",
      "[5]                    The appeal should be dismissed\n",
      "\n"
     ]
    }
   ],
   "source": [
    "generated_summary = None\n",
    "with open(\"example_output-70b-agentic.txt\", \"r\") as file:\n",
    "    generated_summary = file.read()\n",
    "print(generated_summary)"
   ]
  },
  {
   "cell_type": "code",
   "execution_count": 20,
   "metadata": {},
   "outputs": [
    {
     "name": "stdout",
     "output_type": "stream",
     "text": [
      "ROUGE Scores:\n",
      "rouge1: Precision=0.590, Recall=0.270, F1-Score=0.370\n",
      "rouge2: Precision=0.251, Recall=0.115, F1-Score=0.157\n",
      "rougeL: Precision=0.265, Recall=0.121, F1-Score=0.166\n"
     ]
    }
   ],
   "source": [
    "from rouge_score import rouge_scorer\n",
    "\n",
    "\n",
    "### 1. ROUGE score\n",
    "def calculate_rouge(reference, generated):\n",
    "\n",
    "    scorer = rouge_scorer.RougeScorer(['rouge1', 'rouge2', 'rougeL'], use_stemmer=True)\n",
    "    scores = scorer.score(reference, generated)\n",
    "    return scores\n",
    "\n",
    "rouge_scores = calculate_rouge(reference_summary, generated_summary)\n",
    "print(\"ROUGE Scores:\")\n",
    "for metric, score in rouge_scores.items():\n",
    "    print(f\"{metric}: Precision={score.precision:.3f}, Recall={score.recall:.3f}, F1-Score={score.fmeasure:.3f}\")\n",
    "\n"
   ]
  },
  {
   "cell_type": "code",
   "execution_count": 21,
   "metadata": {},
   "outputs": [
    {
     "name": "stderr",
     "output_type": "stream",
     "text": [
      "Some weights of RobertaModel were not initialized from the model checkpoint at roberta-large and are newly initialized: ['roberta.pooler.dense.bias', 'roberta.pooler.dense.weight']\n",
      "You should probably TRAIN this model on a down-stream task to be able to use it for predictions and inference.\n"
     ]
    },
    {
     "name": "stdout",
     "output_type": "stream",
     "text": [
      "calculating scores...\n",
      "computing bert embedding.\n"
     ]
    },
    {
     "data": {
      "application/vnd.jupyter.widget-view+json": {
       "model_id": "ac0858f9985540a9a76803c8ce0dd918",
       "version_major": 2,
       "version_minor": 0
      },
      "text/plain": [
       "  0%|          | 0/1 [00:00<?, ?it/s]"
      ]
     },
     "metadata": {},
     "output_type": "display_data"
    },
    {
     "name": "stdout",
     "output_type": "stream",
     "text": [
      "computing greedy matching.\n"
     ]
    },
    {
     "data": {
      "application/vnd.jupyter.widget-view+json": {
       "model_id": "3599cdd8e65a4fc9bac164f114c2ec46",
       "version_major": 2,
       "version_minor": 0
      },
      "text/plain": [
       "  0%|          | 0/1 [00:00<?, ?it/s]"
      ]
     },
     "metadata": {},
     "output_type": "display_data"
    },
    {
     "name": "stdout",
     "output_type": "stream",
     "text": [
      "done in 0.20 seconds, 5.04 sentences/sec\n",
      "\n",
      "BERTScore:\n",
      "Precision=0.785, Recall=0.822, F1-Score=0.803\n"
     ]
    }
   ],
   "source": [
    "from bert_score import score\n",
    "\n",
    "\n",
    "### 2.BERTScore\n",
    "def calculate_bertscore(reference, generated):\n",
    "\n",
    "    P, R, F1 = score([generated], [reference], lang=\"en\", verbose=True)\n",
    "    return P[0].item(), R[0].item(), F1[0].item()\n",
    "\n",
    "bert_precision, bert_recall, bert_f1 = calculate_bertscore(reference_summary, generated_summary)\n",
    "print(\"\\nBERTScore:\")\n",
    "print(f\"Precision={bert_precision:.3f}, Recall={bert_recall:.3f}, F1-Score={bert_f1:.3f}\")\n"
   ]
  }
 ],
 "metadata": {
  "kernelspec": {
   "display_name": "ece1786",
   "language": "python",
   "name": "python3"
  },
  "language_info": {
   "codemirror_mode": {
    "name": "ipython",
    "version": 3
   },
   "file_extension": ".py",
   "mimetype": "text/x-python",
   "name": "python",
   "nbconvert_exporter": "python",
   "pygments_lexer": "ipython3",
   "version": "3.10.14"
  }
 },
 "nbformat": 4,
 "nbformat_minor": 2
}
